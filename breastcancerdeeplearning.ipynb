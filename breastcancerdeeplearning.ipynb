{
 "cells": [
  {
   "cell_type": "code",
   "execution_count": 1,
   "id": "c0e37d1e",
   "metadata": {
    "_cell_guid": "b1076dfc-b9ad-4769-8c92-a6c4dae69d19",
    "_uuid": "8f2839f25d086af736a60e9eeb907d3b93b6e0e5",
    "execution": {
     "iopub.execute_input": "2024-12-06T17:56:56.872496Z",
     "iopub.status.busy": "2024-12-06T17:56:56.871957Z",
     "iopub.status.idle": "2024-12-06T17:56:57.791707Z",
     "shell.execute_reply": "2024-12-06T17:56:57.790661Z"
    },
    "papermill": {
     "duration": 0.929912,
     "end_time": "2024-12-06T17:56:57.794520",
     "exception": false,
     "start_time": "2024-12-06T17:56:56.864608",
     "status": "completed"
    },
    "tags": []
   },
   "outputs": [],
   "source": [
    "# This Python 3 environment comes with many helpful analytics libraries installed\n",
    "# It is defined by the kaggle/python Docker image: https://github.com/kaggle/docker-python\n",
    "# For example, here's several helpful packages to load\n",
    "\n",
    "import numpy as np # linear algebra\n",
    "import pandas as pd # data processing, CSV file I/O (e.g. pd.read_csv)\n",
    "\n",
    "# Input data files are available in the read-only \"../input/\" directory\n",
    "# For example, running this (by clicking run or pressing Shift+Enter) will list all files under the input directory\n",
    "\n",
    "import os\n",
    "for dirname, _, filenames in os.walk('/kaggle/input'):\n",
    "    for filename in filenames:\n",
    "        print(os.path.join(dirname, filename))\n",
    "\n",
    "# You can write up to 20GB to the current directory (/kaggle/working/) that gets preserved as output when you create a version using \"Save & Run All\" \n",
    "# You can also write temporary files to /kaggle/temp/, but they won't be saved outside of the current session"
   ]
  },
  {
   "cell_type": "code",
   "execution_count": 2,
   "id": "f704547b",
   "metadata": {
    "execution": {
     "iopub.execute_input": "2024-12-06T17:56:57.807990Z",
     "iopub.status.busy": "2024-12-06T17:56:57.807386Z",
     "iopub.status.idle": "2024-12-06T17:57:13.337892Z",
     "shell.execute_reply": "2024-12-06T17:57:13.336765Z"
    },
    "papermill": {
     "duration": 15.538745,
     "end_time": "2024-12-06T17:57:13.340604",
     "exception": false,
     "start_time": "2024-12-06T17:56:57.801859",
     "status": "completed"
    },
    "tags": []
   },
   "outputs": [],
   "source": [
    "import keras\n",
    "import tensorflow as tf\n",
    "import numpy as np\n",
    "import pandas as pd\n",
    "from joblib import dump, load\n",
    "import random\n",
    "import matplotlib.pyplot as plt\n",
    "from sklearn.preprocessing import StandardScaler,MinMaxScaler\n",
    "from sklearn.model_selection import train_test_split,cross_val_score\n",
    "from sklearn.datasets import load_breast_cancer \n",
    "import keras\n",
    "import tensorflow as tf\n",
    "from tensorflow import keras\n",
    "from tensorflow.keras.optimizers import SGD\n",
    "from tensorflow.keras.models import Sequential, load_model\n",
    "from tensorflow.keras.regularizers import l2\n",
    "from tensorflow.keras.callbacks import EarlyStopping, ModelCheckpoint\n",
    "from tensorflow.keras.layers import Input, Dense, Dropout, BatchNormalization\n",
    "from sklearn.model_selection import KFold"
   ]
  },
  {
   "cell_type": "code",
   "execution_count": 3,
   "id": "958796c0",
   "metadata": {
    "execution": {
     "iopub.execute_input": "2024-12-06T17:57:13.351126Z",
     "iopub.status.busy": "2024-12-06T17:57:13.350335Z",
     "iopub.status.idle": "2024-12-06T17:57:13.369561Z",
     "shell.execute_reply": "2024-12-06T17:57:13.368585Z"
    },
    "papermill": {
     "duration": 0.027533,
     "end_time": "2024-12-06T17:57:13.372367",
     "exception": false,
     "start_time": "2024-12-06T17:57:13.344834",
     "status": "completed"
    },
    "tags": []
   },
   "outputs": [],
   "source": [
    "data=load_breast_cancer()\n",
    "df = pd.DataFrame(data=data.data, columns=data.feature_names)"
   ]
  },
  {
   "cell_type": "code",
   "execution_count": 4,
   "id": "16991f02",
   "metadata": {
    "execution": {
     "iopub.execute_input": "2024-12-06T17:57:13.382946Z",
     "iopub.status.busy": "2024-12-06T17:57:13.382492Z",
     "iopub.status.idle": "2024-12-06T17:57:13.425200Z",
     "shell.execute_reply": "2024-12-06T17:57:13.423895Z"
    },
    "papermill": {
     "duration": 0.053408,
     "end_time": "2024-12-06T17:57:13.430211",
     "exception": false,
     "start_time": "2024-12-06T17:57:13.376803",
     "status": "completed"
    },
    "tags": []
   },
   "outputs": [
    {
     "data": {
      "text/html": [
       "<div>\n",
       "<style scoped>\n",
       "    .dataframe tbody tr th:only-of-type {\n",
       "        vertical-align: middle;\n",
       "    }\n",
       "\n",
       "    .dataframe tbody tr th {\n",
       "        vertical-align: top;\n",
       "    }\n",
       "\n",
       "    .dataframe thead th {\n",
       "        text-align: right;\n",
       "    }\n",
       "</style>\n",
       "<table border=\"1\" class=\"dataframe\">\n",
       "  <thead>\n",
       "    <tr style=\"text-align: right;\">\n",
       "      <th></th>\n",
       "      <th>mean radius</th>\n",
       "      <th>mean texture</th>\n",
       "      <th>mean perimeter</th>\n",
       "      <th>mean area</th>\n",
       "      <th>mean smoothness</th>\n",
       "      <th>mean compactness</th>\n",
       "      <th>mean concavity</th>\n",
       "      <th>mean concave points</th>\n",
       "      <th>mean symmetry</th>\n",
       "      <th>mean fractal dimension</th>\n",
       "      <th>...</th>\n",
       "      <th>worst radius</th>\n",
       "      <th>worst texture</th>\n",
       "      <th>worst perimeter</th>\n",
       "      <th>worst area</th>\n",
       "      <th>worst smoothness</th>\n",
       "      <th>worst compactness</th>\n",
       "      <th>worst concavity</th>\n",
       "      <th>worst concave points</th>\n",
       "      <th>worst symmetry</th>\n",
       "      <th>worst fractal dimension</th>\n",
       "    </tr>\n",
       "  </thead>\n",
       "  <tbody>\n",
       "    <tr>\n",
       "      <th>0</th>\n",
       "      <td>17.99</td>\n",
       "      <td>10.38</td>\n",
       "      <td>122.80</td>\n",
       "      <td>1001.0</td>\n",
       "      <td>0.11840</td>\n",
       "      <td>0.27760</td>\n",
       "      <td>0.3001</td>\n",
       "      <td>0.14710</td>\n",
       "      <td>0.2419</td>\n",
       "      <td>0.07871</td>\n",
       "      <td>...</td>\n",
       "      <td>25.38</td>\n",
       "      <td>17.33</td>\n",
       "      <td>184.60</td>\n",
       "      <td>2019.0</td>\n",
       "      <td>0.1622</td>\n",
       "      <td>0.6656</td>\n",
       "      <td>0.7119</td>\n",
       "      <td>0.2654</td>\n",
       "      <td>0.4601</td>\n",
       "      <td>0.11890</td>\n",
       "    </tr>\n",
       "    <tr>\n",
       "      <th>1</th>\n",
       "      <td>20.57</td>\n",
       "      <td>17.77</td>\n",
       "      <td>132.90</td>\n",
       "      <td>1326.0</td>\n",
       "      <td>0.08474</td>\n",
       "      <td>0.07864</td>\n",
       "      <td>0.0869</td>\n",
       "      <td>0.07017</td>\n",
       "      <td>0.1812</td>\n",
       "      <td>0.05667</td>\n",
       "      <td>...</td>\n",
       "      <td>24.99</td>\n",
       "      <td>23.41</td>\n",
       "      <td>158.80</td>\n",
       "      <td>1956.0</td>\n",
       "      <td>0.1238</td>\n",
       "      <td>0.1866</td>\n",
       "      <td>0.2416</td>\n",
       "      <td>0.1860</td>\n",
       "      <td>0.2750</td>\n",
       "      <td>0.08902</td>\n",
       "    </tr>\n",
       "    <tr>\n",
       "      <th>2</th>\n",
       "      <td>19.69</td>\n",
       "      <td>21.25</td>\n",
       "      <td>130.00</td>\n",
       "      <td>1203.0</td>\n",
       "      <td>0.10960</td>\n",
       "      <td>0.15990</td>\n",
       "      <td>0.1974</td>\n",
       "      <td>0.12790</td>\n",
       "      <td>0.2069</td>\n",
       "      <td>0.05999</td>\n",
       "      <td>...</td>\n",
       "      <td>23.57</td>\n",
       "      <td>25.53</td>\n",
       "      <td>152.50</td>\n",
       "      <td>1709.0</td>\n",
       "      <td>0.1444</td>\n",
       "      <td>0.4245</td>\n",
       "      <td>0.4504</td>\n",
       "      <td>0.2430</td>\n",
       "      <td>0.3613</td>\n",
       "      <td>0.08758</td>\n",
       "    </tr>\n",
       "    <tr>\n",
       "      <th>3</th>\n",
       "      <td>11.42</td>\n",
       "      <td>20.38</td>\n",
       "      <td>77.58</td>\n",
       "      <td>386.1</td>\n",
       "      <td>0.14250</td>\n",
       "      <td>0.28390</td>\n",
       "      <td>0.2414</td>\n",
       "      <td>0.10520</td>\n",
       "      <td>0.2597</td>\n",
       "      <td>0.09744</td>\n",
       "      <td>...</td>\n",
       "      <td>14.91</td>\n",
       "      <td>26.50</td>\n",
       "      <td>98.87</td>\n",
       "      <td>567.7</td>\n",
       "      <td>0.2098</td>\n",
       "      <td>0.8663</td>\n",
       "      <td>0.6869</td>\n",
       "      <td>0.2575</td>\n",
       "      <td>0.6638</td>\n",
       "      <td>0.17300</td>\n",
       "    </tr>\n",
       "    <tr>\n",
       "      <th>4</th>\n",
       "      <td>20.29</td>\n",
       "      <td>14.34</td>\n",
       "      <td>135.10</td>\n",
       "      <td>1297.0</td>\n",
       "      <td>0.10030</td>\n",
       "      <td>0.13280</td>\n",
       "      <td>0.1980</td>\n",
       "      <td>0.10430</td>\n",
       "      <td>0.1809</td>\n",
       "      <td>0.05883</td>\n",
       "      <td>...</td>\n",
       "      <td>22.54</td>\n",
       "      <td>16.67</td>\n",
       "      <td>152.20</td>\n",
       "      <td>1575.0</td>\n",
       "      <td>0.1374</td>\n",
       "      <td>0.2050</td>\n",
       "      <td>0.4000</td>\n",
       "      <td>0.1625</td>\n",
       "      <td>0.2364</td>\n",
       "      <td>0.07678</td>\n",
       "    </tr>\n",
       "  </tbody>\n",
       "</table>\n",
       "<p>5 rows × 30 columns</p>\n",
       "</div>"
      ],
      "text/plain": [
       "   mean radius  mean texture  mean perimeter  mean area  mean smoothness  \\\n",
       "0        17.99         10.38          122.80     1001.0          0.11840   \n",
       "1        20.57         17.77          132.90     1326.0          0.08474   \n",
       "2        19.69         21.25          130.00     1203.0          0.10960   \n",
       "3        11.42         20.38           77.58      386.1          0.14250   \n",
       "4        20.29         14.34          135.10     1297.0          0.10030   \n",
       "\n",
       "   mean compactness  mean concavity  mean concave points  mean symmetry  \\\n",
       "0           0.27760          0.3001              0.14710         0.2419   \n",
       "1           0.07864          0.0869              0.07017         0.1812   \n",
       "2           0.15990          0.1974              0.12790         0.2069   \n",
       "3           0.28390          0.2414              0.10520         0.2597   \n",
       "4           0.13280          0.1980              0.10430         0.1809   \n",
       "\n",
       "   mean fractal dimension  ...  worst radius  worst texture  worst perimeter  \\\n",
       "0                 0.07871  ...         25.38          17.33           184.60   \n",
       "1                 0.05667  ...         24.99          23.41           158.80   \n",
       "2                 0.05999  ...         23.57          25.53           152.50   \n",
       "3                 0.09744  ...         14.91          26.50            98.87   \n",
       "4                 0.05883  ...         22.54          16.67           152.20   \n",
       "\n",
       "   worst area  worst smoothness  worst compactness  worst concavity  \\\n",
       "0      2019.0            0.1622             0.6656           0.7119   \n",
       "1      1956.0            0.1238             0.1866           0.2416   \n",
       "2      1709.0            0.1444             0.4245           0.4504   \n",
       "3       567.7            0.2098             0.8663           0.6869   \n",
       "4      1575.0            0.1374             0.2050           0.4000   \n",
       "\n",
       "   worst concave points  worst symmetry  worst fractal dimension  \n",
       "0                0.2654          0.4601                  0.11890  \n",
       "1                0.1860          0.2750                  0.08902  \n",
       "2                0.2430          0.3613                  0.08758  \n",
       "3                0.2575          0.6638                  0.17300  \n",
       "4                0.1625          0.2364                  0.07678  \n",
       "\n",
       "[5 rows x 30 columns]"
      ]
     },
     "execution_count": 4,
     "metadata": {},
     "output_type": "execute_result"
    }
   ],
   "source": [
    "df.head()"
   ]
  },
  {
   "cell_type": "code",
   "execution_count": 5,
   "id": "7b5fc65e",
   "metadata": {
    "execution": {
     "iopub.execute_input": "2024-12-06T17:57:13.447533Z",
     "iopub.status.busy": "2024-12-06T17:57:13.446596Z",
     "iopub.status.idle": "2024-12-06T17:57:13.453709Z",
     "shell.execute_reply": "2024-12-06T17:57:13.452515Z"
    },
    "papermill": {
     "duration": 0.020295,
     "end_time": "2024-12-06T17:57:13.456816",
     "exception": false,
     "start_time": "2024-12-06T17:57:13.436521",
     "status": "completed"
    },
    "tags": []
   },
   "outputs": [],
   "source": [
    "X=data.data\n",
    "y=data.target"
   ]
  },
  {
   "cell_type": "code",
   "execution_count": 6,
   "id": "a06224c7",
   "metadata": {
    "execution": {
     "iopub.execute_input": "2024-12-06T17:57:13.470681Z",
     "iopub.status.busy": "2024-12-06T17:57:13.469948Z",
     "iopub.status.idle": "2024-12-06T17:57:13.478221Z",
     "shell.execute_reply": "2024-12-06T17:57:13.476991Z"
    },
    "papermill": {
     "duration": 0.01926,
     "end_time": "2024-12-06T17:57:13.481610",
     "exception": false,
     "start_time": "2024-12-06T17:57:13.462350",
     "status": "completed"
    },
    "tags": []
   },
   "outputs": [],
   "source": [
    "X_train,X_val,y_train,y_val=train_test_split(X,y,test_size=0.2,random_state=42)"
   ]
  },
  {
   "cell_type": "code",
   "execution_count": 7,
   "id": "11bbfbc4",
   "metadata": {
    "execution": {
     "iopub.execute_input": "2024-12-06T17:57:13.499410Z",
     "iopub.status.busy": "2024-12-06T17:57:13.498763Z",
     "iopub.status.idle": "2024-12-06T17:57:13.506478Z",
     "shell.execute_reply": "2024-12-06T17:57:13.505552Z"
    },
    "papermill": {
     "duration": 0.01639,
     "end_time": "2024-12-06T17:57:13.508844",
     "exception": false,
     "start_time": "2024-12-06T17:57:13.492454",
     "status": "completed"
    },
    "tags": []
   },
   "outputs": [],
   "source": [
    "scaler=MinMaxScaler()\n",
    "X_train=scaler.fit_transform(X_train)\n",
    "X_val=scaler.transform(X_val)"
   ]
  },
  {
   "cell_type": "code",
   "execution_count": 8,
   "id": "96d0b46b",
   "metadata": {
    "execution": {
     "iopub.execute_input": "2024-12-06T17:57:13.520282Z",
     "iopub.status.busy": "2024-12-06T17:57:13.519856Z",
     "iopub.status.idle": "2024-12-06T17:57:13.639927Z",
     "shell.execute_reply": "2024-12-06T17:57:13.638961Z"
    },
    "papermill": {
     "duration": 0.129048,
     "end_time": "2024-12-06T17:57:13.642658",
     "exception": false,
     "start_time": "2024-12-06T17:57:13.513610",
     "status": "completed"
    },
    "tags": []
   },
   "outputs": [],
   "source": [
    "model = Sequential([\n",
    "    Input(shape=(X_train.shape[1],)),\n",
    "\n",
    "    Dense(32, activation='relu', kernel_regularizer=l2(0.001)), ## l2-->düzenlileştirme işlemi\n",
    "\n",
    "    BatchNormalization(),  ##aktivasyonları standartlaştırıyor. Eğitim süresini kısaltır. \n",
    "    \n",
    "    Dropout(0.5), #Nöronların rastgele söndürülmesini sağlar. Aşırı bağımlılığı engeleer.\n",
    "\n",
    "    Dense(64, activation='relu', kernel_regularizer=l2(0.001)),\n",
    "\n",
    "    BatchNormalization(),\n",
    "    \n",
    "    Dropout(0.5),\n",
    "\n",
    "    Dense(1, activation='sigmoid')\n",
    "])"
   ]
  },
  {
   "cell_type": "code",
   "execution_count": 9,
   "id": "d0223565",
   "metadata": {
    "execution": {
     "iopub.execute_input": "2024-12-06T17:57:13.653310Z",
     "iopub.status.busy": "2024-12-06T17:57:13.652880Z",
     "iopub.status.idle": "2024-12-06T17:57:13.668707Z",
     "shell.execute_reply": "2024-12-06T17:57:13.667637Z"
    },
    "papermill": {
     "duration": 0.024197,
     "end_time": "2024-12-06T17:57:13.671509",
     "exception": false,
     "start_time": "2024-12-06T17:57:13.647312",
     "status": "completed"
    },
    "tags": []
   },
   "outputs": [],
   "source": [
    "model.compile(optimizer=\"adam\",loss=\"binary_crossentropy\",metrics=[\"accuracy\",\"AUC\"])"
   ]
  },
  {
   "cell_type": "code",
   "execution_count": 10,
   "id": "c694ea4c",
   "metadata": {
    "execution": {
     "iopub.execute_input": "2024-12-06T17:57:13.682341Z",
     "iopub.status.busy": "2024-12-06T17:57:13.681932Z",
     "iopub.status.idle": "2024-12-06T17:57:13.687693Z",
     "shell.execute_reply": "2024-12-06T17:57:13.686718Z"
    },
    "papermill": {
     "duration": 0.013492,
     "end_time": "2024-12-06T17:57:13.689744",
     "exception": false,
     "start_time": "2024-12-06T17:57:13.676252",
     "status": "completed"
    },
    "tags": []
   },
   "outputs": [],
   "source": [
    "callbacks=EarlyStopping(\n",
    "    monitor=\"val_loss\", ## Hangi krtitere göre durduracaksın ona karar verir.\n",
    "    patience=10,  #Yazan iterasyona kadar çalıştır. (Minimum)\n",
    "    verbose=1,\n",
    "    restore_best_weights=True\n",
    ")\n",
    "\n",
    "model_checkpoint=ModelCheckpoint(\n",
    "    'model.keras',\n",
    "    monitor=\"val_loss\",\n",
    "    verbose=1,\n",
    "    save_best_only=True\n",
    ")"
   ]
  },
  {
   "cell_type": "code",
   "execution_count": 11,
   "id": "638b9a21",
   "metadata": {
    "execution": {
     "iopub.execute_input": "2024-12-06T17:57:13.700542Z",
     "iopub.status.busy": "2024-12-06T17:57:13.700061Z",
     "iopub.status.idle": "2024-12-06T17:57:23.983911Z",
     "shell.execute_reply": "2024-12-06T17:57:23.982660Z"
    },
    "papermill": {
     "duration": 10.29239,
     "end_time": "2024-12-06T17:57:23.986730",
     "exception": false,
     "start_time": "2024-12-06T17:57:13.694340",
     "status": "completed"
    },
    "tags": []
   },
   "outputs": [
    {
     "name": "stdout",
     "output_type": "stream",
     "text": [
      "Epoch 1/1000\n",
      "\n",
      "Epoch 1: val_loss improved from inf to 0.73886, saving model to model.keras\n",
      "15/15 - 3s - 199ms/step - AUC: 0.6668 - accuracy: 0.6308 - loss: 0.8147 - val_AUC: 0.9826 - val_accuracy: 0.3947 - val_loss: 0.7389\n",
      "Epoch 2/1000\n",
      "\n",
      "Epoch 2: val_loss improved from 0.73886 to 0.70724, saving model to model.keras\n",
      "15/15 - 0s - 8ms/step - AUC: 0.8326 - accuracy: 0.7670 - loss: 0.5670 - val_AUC: 0.9933 - val_accuracy: 0.4298 - val_loss: 0.7072\n",
      "Epoch 3/1000\n",
      "\n",
      "Epoch 3: val_loss improved from 0.70724 to 0.66015, saving model to model.keras\n",
      "15/15 - 0s - 9ms/step - AUC: 0.9167 - accuracy: 0.8484 - loss: 0.4362 - val_AUC: 0.9956 - val_accuracy: 0.5877 - val_loss: 0.6602\n",
      "Epoch 4/1000\n",
      "\n",
      "Epoch 4: val_loss improved from 0.66015 to 0.62357, saving model to model.keras\n",
      "15/15 - 0s - 9ms/step - AUC: 0.9356 - accuracy: 0.8659 - loss: 0.3890 - val_AUC: 0.9959 - val_accuracy: 0.6228 - val_loss: 0.6236\n",
      "Epoch 5/1000\n",
      "\n",
      "Epoch 5: val_loss improved from 0.62357 to 0.57074, saving model to model.keras\n",
      "15/15 - 0s - 9ms/step - AUC: 0.9312 - accuracy: 0.8615 - loss: 0.3870 - val_AUC: 0.9967 - val_accuracy: 0.8246 - val_loss: 0.5707\n",
      "Epoch 6/1000\n",
      "\n",
      "Epoch 6: val_loss improved from 0.57074 to 0.51644, saving model to model.keras\n",
      "15/15 - 0s - 9ms/step - AUC: 0.9658 - accuracy: 0.9231 - loss: 0.2943 - val_AUC: 0.9964 - val_accuracy: 0.9035 - val_loss: 0.5164\n",
      "Epoch 7/1000\n",
      "\n",
      "Epoch 7: val_loss improved from 0.51644 to 0.47813, saving model to model.keras\n",
      "15/15 - 0s - 8ms/step - AUC: 0.9394 - accuracy: 0.8769 - loss: 0.3779 - val_AUC: 0.9967 - val_accuracy: 0.9211 - val_loss: 0.4781\n",
      "Epoch 8/1000\n",
      "\n",
      "Epoch 8: val_loss improved from 0.47813 to 0.44431, saving model to model.keras\n",
      "15/15 - 0s - 7ms/step - AUC: 0.9589 - accuracy: 0.8945 - loss: 0.3123 - val_AUC: 0.9969 - val_accuracy: 0.9298 - val_loss: 0.4443\n",
      "Epoch 9/1000\n",
      "\n",
      "Epoch 9: val_loss improved from 0.44431 to 0.41408, saving model to model.keras\n",
      "15/15 - 0s - 7ms/step - AUC: 0.9672 - accuracy: 0.9165 - loss: 0.2812 - val_AUC: 0.9974 - val_accuracy: 0.9474 - val_loss: 0.4141\n",
      "Epoch 10/1000\n",
      "\n",
      "Epoch 10: val_loss improved from 0.41408 to 0.38113, saving model to model.keras\n",
      "15/15 - 0s - 8ms/step - AUC: 0.9632 - accuracy: 0.9121 - loss: 0.2919 - val_AUC: 0.9975 - val_accuracy: 0.9474 - val_loss: 0.3811\n",
      "Epoch 11/1000\n",
      "\n",
      "Epoch 11: val_loss improved from 0.38113 to 0.34790, saving model to model.keras\n",
      "15/15 - 0s - 8ms/step - AUC: 0.9784 - accuracy: 0.9341 - loss: 0.2443 - val_AUC: 0.9975 - val_accuracy: 0.9649 - val_loss: 0.3479\n",
      "Epoch 12/1000\n",
      "\n",
      "Epoch 12: val_loss improved from 0.34790 to 0.31692, saving model to model.keras\n",
      "15/15 - 0s - 8ms/step - AUC: 0.9688 - accuracy: 0.9187 - loss: 0.2781 - val_AUC: 0.9974 - val_accuracy: 0.9649 - val_loss: 0.3169\n",
      "Epoch 13/1000\n",
      "\n",
      "Epoch 13: val_loss improved from 0.31692 to 0.29000, saving model to model.keras\n",
      "15/15 - 0s - 7ms/step - AUC: 0.9723 - accuracy: 0.9231 - loss: 0.2656 - val_AUC: 0.9975 - val_accuracy: 0.9737 - val_loss: 0.2900\n",
      "Epoch 14/1000\n",
      "\n",
      "Epoch 14: val_loss improved from 0.29000 to 0.27246, saving model to model.keras\n",
      "15/15 - 0s - 7ms/step - AUC: 0.9772 - accuracy: 0.9341 - loss: 0.2480 - val_AUC: 0.9974 - val_accuracy: 0.9737 - val_loss: 0.2725\n",
      "Epoch 15/1000\n",
      "\n",
      "Epoch 15: val_loss improved from 0.27246 to 0.25053, saving model to model.keras\n",
      "15/15 - 0s - 8ms/step - AUC: 0.9802 - accuracy: 0.9231 - loss: 0.2407 - val_AUC: 0.9975 - val_accuracy: 0.9737 - val_loss: 0.2505\n",
      "Epoch 16/1000\n",
      "\n",
      "Epoch 16: val_loss improved from 0.25053 to 0.23618, saving model to model.keras\n",
      "15/15 - 0s - 9ms/step - AUC: 0.9741 - accuracy: 0.9297 - loss: 0.2551 - val_AUC: 0.9975 - val_accuracy: 0.9737 - val_loss: 0.2362\n",
      "Epoch 17/1000\n",
      "\n",
      "Epoch 17: val_loss improved from 0.23618 to 0.22302, saving model to model.keras\n",
      "15/15 - 0s - 8ms/step - AUC: 0.9706 - accuracy: 0.9077 - loss: 0.2685 - val_AUC: 0.9975 - val_accuracy: 0.9649 - val_loss: 0.2230\n",
      "Epoch 18/1000\n",
      "\n",
      "Epoch 18: val_loss improved from 0.22302 to 0.20769, saving model to model.keras\n",
      "15/15 - 0s - 8ms/step - AUC: 0.9862 - accuracy: 0.9341 - loss: 0.2078 - val_AUC: 0.9974 - val_accuracy: 0.9649 - val_loss: 0.2077\n",
      "Epoch 19/1000\n",
      "\n",
      "Epoch 19: val_loss improved from 0.20769 to 0.20152, saving model to model.keras\n",
      "15/15 - 0s - 8ms/step - AUC: 0.9792 - accuracy: 0.9363 - loss: 0.2290 - val_AUC: 0.9974 - val_accuracy: 0.9737 - val_loss: 0.2015\n",
      "Epoch 20/1000\n",
      "\n",
      "Epoch 20: val_loss improved from 0.20152 to 0.19404, saving model to model.keras\n",
      "15/15 - 0s - 8ms/step - AUC: 0.9803 - accuracy: 0.9385 - loss: 0.2174 - val_AUC: 0.9977 - val_accuracy: 0.9737 - val_loss: 0.1940\n",
      "Epoch 21/1000\n",
      "\n",
      "Epoch 21: val_loss improved from 0.19404 to 0.18306, saving model to model.keras\n",
      "15/15 - 0s - 8ms/step - AUC: 0.9803 - accuracy: 0.9341 - loss: 0.2294 - val_AUC: 0.9974 - val_accuracy: 0.9737 - val_loss: 0.1831\n",
      "Epoch 22/1000\n",
      "\n",
      "Epoch 22: val_loss improved from 0.18306 to 0.17528, saving model to model.keras\n",
      "15/15 - 0s - 9ms/step - AUC: 0.9759 - accuracy: 0.9363 - loss: 0.2434 - val_AUC: 0.9975 - val_accuracy: 0.9737 - val_loss: 0.1753\n",
      "Epoch 23/1000\n",
      "\n",
      "Epoch 23: val_loss improved from 0.17528 to 0.16866, saving model to model.keras\n",
      "15/15 - 0s - 9ms/step - AUC: 0.9877 - accuracy: 0.9451 - loss: 0.1999 - val_AUC: 0.9977 - val_accuracy: 0.9649 - val_loss: 0.1687\n",
      "Epoch 24/1000\n",
      "\n",
      "Epoch 24: val_loss improved from 0.16866 to 0.16130, saving model to model.keras\n",
      "15/15 - 0s - 8ms/step - AUC: 0.9867 - accuracy: 0.9604 - loss: 0.1871 - val_AUC: 0.9974 - val_accuracy: 0.9649 - val_loss: 0.1613\n",
      "Epoch 25/1000\n",
      "\n",
      "Epoch 25: val_loss improved from 0.16130 to 0.15670, saving model to model.keras\n",
      "15/15 - 0s - 8ms/step - AUC: 0.9801 - accuracy: 0.9253 - loss: 0.2425 - val_AUC: 0.9974 - val_accuracy: 0.9649 - val_loss: 0.1567\n",
      "Epoch 26/1000\n",
      "\n",
      "Epoch 26: val_loss improved from 0.15670 to 0.15199, saving model to model.keras\n",
      "15/15 - 0s - 8ms/step - AUC: 0.9757 - accuracy: 0.9319 - loss: 0.2436 - val_AUC: 0.9974 - val_accuracy: 0.9737 - val_loss: 0.1520\n",
      "Epoch 27/1000\n",
      "\n",
      "Epoch 27: val_loss improved from 0.15199 to 0.14933, saving model to model.keras\n",
      "15/15 - 0s - 9ms/step - AUC: 0.9884 - accuracy: 0.9626 - loss: 0.1789 - val_AUC: 0.9974 - val_accuracy: 0.9737 - val_loss: 0.1493\n",
      "Epoch 28/1000\n",
      "\n",
      "Epoch 28: val_loss improved from 0.14933 to 0.14683, saving model to model.keras\n",
      "15/15 - 0s - 8ms/step - AUC: 0.9811 - accuracy: 0.9451 - loss: 0.2181 - val_AUC: 0.9974 - val_accuracy: 0.9737 - val_loss: 0.1468\n",
      "Epoch 29/1000\n",
      "\n",
      "Epoch 29: val_loss did not improve from 0.14683\n",
      "15/15 - 0s - 6ms/step - AUC: 0.9916 - accuracy: 0.9582 - loss: 0.1708 - val_AUC: 0.9971 - val_accuracy: 0.9649 - val_loss: 0.1471\n",
      "Epoch 30/1000\n",
      "\n",
      "Epoch 30: val_loss improved from 0.14683 to 0.14484, saving model to model.keras\n",
      "15/15 - 0s - 8ms/step - AUC: 0.9845 - accuracy: 0.9429 - loss: 0.1998 - val_AUC: 0.9971 - val_accuracy: 0.9649 - val_loss: 0.1448\n",
      "Epoch 31/1000\n",
      "\n",
      "Epoch 31: val_loss improved from 0.14484 to 0.14460, saving model to model.keras\n",
      "15/15 - 0s - 8ms/step - AUC: 0.9832 - accuracy: 0.9407 - loss: 0.2154 - val_AUC: 0.9971 - val_accuracy: 0.9649 - val_loss: 0.1446\n",
      "Epoch 32/1000\n",
      "\n",
      "Epoch 32: val_loss did not improve from 0.14460\n",
      "15/15 - 0s - 6ms/step - AUC: 0.9772 - accuracy: 0.9363 - loss: 0.2382 - val_AUC: 0.9971 - val_accuracy: 0.9561 - val_loss: 0.1457\n",
      "Epoch 33/1000\n",
      "\n",
      "Epoch 33: val_loss improved from 0.14460 to 0.14315, saving model to model.keras\n",
      "15/15 - 0s - 7ms/step - AUC: 0.9883 - accuracy: 0.9516 - loss: 0.1886 - val_AUC: 0.9971 - val_accuracy: 0.9649 - val_loss: 0.1431\n",
      "Epoch 34/1000\n",
      "\n",
      "Epoch 34: val_loss improved from 0.14315 to 0.14165, saving model to model.keras\n",
      "15/15 - 0s - 7ms/step - AUC: 0.9843 - accuracy: 0.9516 - loss: 0.1982 - val_AUC: 0.9971 - val_accuracy: 0.9649 - val_loss: 0.1416\n",
      "Epoch 35/1000\n",
      "\n",
      "Epoch 35: val_loss did not improve from 0.14165\n",
      "15/15 - 0s - 6ms/step - AUC: 0.9824 - accuracy: 0.9538 - loss: 0.2026 - val_AUC: 0.9971 - val_accuracy: 0.9649 - val_loss: 0.1421\n",
      "Epoch 36/1000\n",
      "\n",
      "Epoch 36: val_loss did not improve from 0.14165\n",
      "15/15 - 0s - 6ms/step - AUC: 0.9834 - accuracy: 0.9407 - loss: 0.2080 - val_AUC: 0.9971 - val_accuracy: 0.9649 - val_loss: 0.1437\n",
      "Epoch 37/1000\n",
      "\n",
      "Epoch 37: val_loss did not improve from 0.14165\n",
      "15/15 - 0s - 6ms/step - AUC: 0.9893 - accuracy: 0.9648 - loss: 0.1773 - val_AUC: 0.9971 - val_accuracy: 0.9649 - val_loss: 0.1434\n",
      "Epoch 38/1000\n",
      "\n",
      "Epoch 38: val_loss improved from 0.14165 to 0.13976, saving model to model.keras\n",
      "15/15 - 0s - 8ms/step - AUC: 0.9813 - accuracy: 0.9538 - loss: 0.2023 - val_AUC: 0.9971 - val_accuracy: 0.9649 - val_loss: 0.1398\n",
      "Epoch 39/1000\n",
      "\n",
      "Epoch 39: val_loss improved from 0.13976 to 0.13853, saving model to model.keras\n",
      "15/15 - 0s - 8ms/step - AUC: 0.9848 - accuracy: 0.9407 - loss: 0.2110 - val_AUC: 0.9971 - val_accuracy: 0.9561 - val_loss: 0.1385\n",
      "Epoch 40/1000\n",
      "\n",
      "Epoch 40: val_loss did not improve from 0.13853\n",
      "15/15 - 0s - 6ms/step - AUC: 0.9896 - accuracy: 0.9451 - loss: 0.1834 - val_AUC: 0.9967 - val_accuracy: 0.9737 - val_loss: 0.1423\n",
      "Epoch 41/1000\n",
      "\n",
      "Epoch 41: val_loss improved from 0.13853 to 0.13724, saving model to model.keras\n",
      "15/15 - 0s - 8ms/step - AUC: 0.9883 - accuracy: 0.9538 - loss: 0.1849 - val_AUC: 0.9971 - val_accuracy: 0.9649 - val_loss: 0.1372\n",
      "Epoch 42/1000\n",
      "\n",
      "Epoch 42: val_loss improved from 0.13724 to 0.13595, saving model to model.keras\n",
      "15/15 - 0s - 8ms/step - AUC: 0.9875 - accuracy: 0.9560 - loss: 0.1796 - val_AUC: 0.9974 - val_accuracy: 0.9649 - val_loss: 0.1359\n",
      "Epoch 43/1000\n",
      "\n",
      "Epoch 43: val_loss did not improve from 0.13595\n",
      "15/15 - 0s - 6ms/step - AUC: 0.9797 - accuracy: 0.9451 - loss: 0.2190 - val_AUC: 0.9971 - val_accuracy: 0.9737 - val_loss: 0.1365\n",
      "Epoch 44/1000\n",
      "\n",
      "Epoch 44: val_loss did not improve from 0.13595\n",
      "15/15 - 0s - 6ms/step - AUC: 0.9825 - accuracy: 0.9429 - loss: 0.2130 - val_AUC: 0.9971 - val_accuracy: 0.9737 - val_loss: 0.1406\n",
      "Epoch 45/1000\n",
      "\n",
      "Epoch 45: val_loss did not improve from 0.13595\n",
      "15/15 - 0s - 6ms/step - AUC: 0.9862 - accuracy: 0.9495 - loss: 0.1957 - val_AUC: 0.9969 - val_accuracy: 0.9737 - val_loss: 0.1447\n",
      "Epoch 46/1000\n",
      "\n",
      "Epoch 46: val_loss did not improve from 0.13595\n",
      "15/15 - 0s - 6ms/step - AUC: 0.9903 - accuracy: 0.9451 - loss: 0.1747 - val_AUC: 0.9969 - val_accuracy: 0.9737 - val_loss: 0.1414\n",
      "Epoch 47/1000\n",
      "\n",
      "Epoch 47: val_loss did not improve from 0.13595\n",
      "15/15 - 0s - 6ms/step - AUC: 0.9876 - accuracy: 0.9538 - loss: 0.1976 - val_AUC: 0.9967 - val_accuracy: 0.9737 - val_loss: 0.1405\n",
      "Epoch 48/1000\n",
      "\n",
      "Epoch 48: val_loss did not improve from 0.13595\n",
      "15/15 - 0s - 6ms/step - AUC: 0.9911 - accuracy: 0.9582 - loss: 0.1618 - val_AUC: 0.9972 - val_accuracy: 0.9649 - val_loss: 0.1372\n",
      "Epoch 49/1000\n",
      "\n",
      "Epoch 49: val_loss improved from 0.13595 to 0.13251, saving model to model.keras\n",
      "15/15 - 0s - 8ms/step - AUC: 0.9913 - accuracy: 0.9582 - loss: 0.1613 - val_AUC: 0.9974 - val_accuracy: 0.9649 - val_loss: 0.1325\n",
      "Epoch 50/1000\n",
      "\n",
      "Epoch 50: val_loss improved from 0.13251 to 0.12970, saving model to model.keras\n",
      "15/15 - 0s - 8ms/step - AUC: 0.9920 - accuracy: 0.9538 - loss: 0.1644 - val_AUC: 0.9974 - val_accuracy: 0.9649 - val_loss: 0.1297\n",
      "Epoch 51/1000\n",
      "\n",
      "Epoch 51: val_loss improved from 0.12970 to 0.12880, saving model to model.keras\n",
      "15/15 - 0s - 9ms/step - AUC: 0.9822 - accuracy: 0.9451 - loss: 0.2090 - val_AUC: 0.9974 - val_accuracy: 0.9649 - val_loss: 0.1288\n",
      "Epoch 52/1000\n",
      "\n",
      "Epoch 52: val_loss improved from 0.12880 to 0.12814, saving model to model.keras\n",
      "15/15 - 0s - 8ms/step - AUC: 0.9886 - accuracy: 0.9560 - loss: 0.1710 - val_AUC: 0.9974 - val_accuracy: 0.9649 - val_loss: 0.1281\n",
      "Epoch 53/1000\n",
      "\n",
      "Epoch 53: val_loss did not improve from 0.12814\n",
      "15/15 - 0s - 6ms/step - AUC: 0.9816 - accuracy: 0.9560 - loss: 0.2147 - val_AUC: 0.9972 - val_accuracy: 0.9649 - val_loss: 0.1301\n",
      "Epoch 54/1000\n",
      "\n",
      "Epoch 54: val_loss did not improve from 0.12814\n",
      "15/15 - 0s - 6ms/step - AUC: 0.9880 - accuracy: 0.9451 - loss: 0.1903 - val_AUC: 0.9972 - val_accuracy: 0.9649 - val_loss: 0.1377\n",
      "Epoch 55/1000\n",
      "\n",
      "Epoch 55: val_loss did not improve from 0.12814\n",
      "15/15 - 0s - 6ms/step - AUC: 0.9929 - accuracy: 0.9648 - loss: 0.1543 - val_AUC: 0.9962 - val_accuracy: 0.9649 - val_loss: 0.1378\n",
      "Epoch 56/1000\n",
      "\n",
      "Epoch 56: val_loss did not improve from 0.12814\n",
      "15/15 - 0s - 6ms/step - AUC: 0.9843 - accuracy: 0.9538 - loss: 0.1865 - val_AUC: 0.9971 - val_accuracy: 0.9649 - val_loss: 0.1353\n",
      "Epoch 57/1000\n",
      "\n",
      "Epoch 57: val_loss did not improve from 0.12814\n",
      "15/15 - 0s - 6ms/step - AUC: 0.9885 - accuracy: 0.9560 - loss: 0.1754 - val_AUC: 0.9972 - val_accuracy: 0.9649 - val_loss: 0.1329\n",
      "Epoch 58/1000\n",
      "\n",
      "Epoch 58: val_loss did not improve from 0.12814\n",
      "15/15 - 0s - 6ms/step - AUC: 0.9892 - accuracy: 0.9626 - loss: 0.1650 - val_AUC: 0.9974 - val_accuracy: 0.9649 - val_loss: 0.1342\n",
      "Epoch 59/1000\n",
      "\n",
      "Epoch 59: val_loss did not improve from 0.12814\n",
      "15/15 - 0s - 6ms/step - AUC: 0.9885 - accuracy: 0.9604 - loss: 0.1733 - val_AUC: 0.9974 - val_accuracy: 0.9649 - val_loss: 0.1329\n",
      "Epoch 60/1000\n",
      "\n",
      "Epoch 60: val_loss did not improve from 0.12814\n",
      "15/15 - 0s - 6ms/step - AUC: 0.9914 - accuracy: 0.9626 - loss: 0.1496 - val_AUC: 0.9974 - val_accuracy: 0.9649 - val_loss: 0.1297\n",
      "Epoch 61/1000\n",
      "\n",
      "Epoch 61: val_loss did not improve from 0.12814\n",
      "15/15 - 0s - 6ms/step - AUC: 0.9860 - accuracy: 0.9582 - loss: 0.1835 - val_AUC: 0.9975 - val_accuracy: 0.9649 - val_loss: 0.1287\n",
      "Epoch 62/1000\n",
      "\n",
      "Epoch 62: val_loss did not improve from 0.12814\n",
      "15/15 - 0s - 6ms/step - AUC: 0.9876 - accuracy: 0.9538 - loss: 0.1877 - val_AUC: 0.9971 - val_accuracy: 0.9737 - val_loss: 0.1334\n",
      "Epoch 62: early stopping\n",
      "Restoring model weights from the end of the best epoch: 52.\n"
     ]
    }
   ],
   "source": [
    "history=model.fit(X_train,\n",
    "                  y_train,\n",
    "                  epochs=1000,\n",
    "                  batch_size=32,\n",
    "                  validation_data=(X_val,y_val),\n",
    "                  verbose=2,\n",
    "                  callbacks=[callbacks,model_checkpoint]\n",
    "                  )"
   ]
  },
  {
   "cell_type": "code",
   "execution_count": 12,
   "id": "1b6ec9a9",
   "metadata": {
    "execution": {
     "iopub.execute_input": "2024-12-06T17:57:24.018649Z",
     "iopub.status.busy": "2024-12-06T17:57:24.017833Z",
     "iopub.status.idle": "2024-12-06T17:57:24.026892Z",
     "shell.execute_reply": "2024-12-06T17:57:24.025770Z"
    },
    "papermill": {
     "duration": 0.027146,
     "end_time": "2024-12-06T17:57:24.029056",
     "exception": false,
     "start_time": "2024-12-06T17:57:24.001910",
     "status": "completed"
    },
    "tags": []
   },
   "outputs": [],
   "source": [
    "def plot_training_history(history,train_loss='loss', train_metric='accuracy', val_loss='val_loss', val_metric='val_accuracy'):\n",
    "    # Loss grafiği\n",
    "    plt.figure(figsize=(12, 5))\n",
    "    plt.plot(history.history[train_loss], label='Eğitim Loss', marker='o')\n",
    "    plt.plot(history.history[val_loss], label='Doğrulama Loss', marker='o')\n",
    "    plt.title('Eğitim ve Doğrulama Kayıp Değerleri')\n",
    "    plt.xlabel('Epochs')\n",
    "    plt.ylabel('Loss')\n",
    "    plt.legend()\n",
    "    plt.grid(True)\n",
    "    plt.show()\n",
    "\n",
    "    # Accuracy grafiği\n",
    "    if 'accuracy' in history.history:\n",
    "        plt.figure(figsize=(12, 5))\n",
    "        plt.plot(history.history[train_metric], label='Eğitim Accuracy', marker='o')\n",
    "        plt.plot(history.history[val_metric], label='Doğrulama Accuracy', marker='o')\n",
    "        plt.title('Eğitim ve Doğrulama Doğruluk Değerleri')\n",
    "        plt.xlabel('Epochs')\n",
    "        plt.ylabel('Accuracy')\n",
    "        plt.legend()\n",
    "        plt.grid(True)\n",
    "        plt.show()"
   ]
  },
  {
   "cell_type": "code",
   "execution_count": 13,
   "id": "cc8d81ae",
   "metadata": {
    "execution": {
     "iopub.execute_input": "2024-12-06T17:57:24.060664Z",
     "iopub.status.busy": "2024-12-06T17:57:24.060231Z",
     "iopub.status.idle": "2024-12-06T17:57:24.714032Z",
     "shell.execute_reply": "2024-12-06T17:57:24.712846Z"
    },
    "papermill": {
     "duration": 0.672854,
     "end_time": "2024-12-06T17:57:24.716596",
     "exception": false,
     "start_time": "2024-12-06T17:57:24.043742",
     "status": "completed"
    },
    "tags": []
   },
   "outputs": [
    {
     "data": {
      "image/png": "[encoded data removed]",
      "text/plain": [
       "<Figure size 1200x500 with 1 Axes>"
      ]
     },
     "metadata": {},
     "output_type": "display_data"
    },
    {
     "data": {
      "image/png": "[encoded data removed]",
      "text/plain": [
       "<Figure size 1200x500 with 1 Axes>"
      ]
     },
     "metadata": {},
     "output_type": "display_data"
    }
   ],
   "source": [
    "plot_training_history(history)"
   ]
  },
  {
   "cell_type": "code",
   "execution_count": 14,
   "id": "13ce07d8",
   "metadata": {
    "execution": {
     "iopub.execute_input": "2024-12-06T17:57:24.750534Z",
     "iopub.status.busy": "2024-12-06T17:57:24.750055Z",
     "iopub.status.idle": "2024-12-06T17:57:24.841591Z",
     "shell.execute_reply": "2024-12-06T17:57:24.840660Z"
    },
    "papermill": {
     "duration": 0.111034,
     "end_time": "2024-12-06T17:57:24.843945",
     "exception": false,
     "start_time": "2024-12-06T17:57:24.732911",
     "status": "completed"
    },
    "tags": []
   },
   "outputs": [
    {
     "name": "stdout",
     "output_type": "stream",
     "text": [
      "\u001b[1m4/4\u001b[0m \u001b[32m━━━━━━━━━━━━━━━━━━━━\u001b[0m\u001b[37m\u001b[0m \u001b[1m0s\u001b[0m 4ms/step - AUC: 0.9971 - accuracy: 0.9558 - loss: 0.1427 \n"
     ]
    }
   ],
   "source": [
    "result=model.evaluate(X_val,y_val)"
   ]
  },
  {
   "cell_type": "code",
   "execution_count": 15,
   "id": "ecbfda04",
   "metadata": {
    "execution": {
     "iopub.execute_input": "2024-12-06T17:57:24.877153Z",
     "iopub.status.busy": "2024-12-06T17:57:24.876708Z",
     "iopub.status.idle": "2024-12-06T17:57:24.881661Z",
     "shell.execute_reply": "2024-12-06T17:57:24.880661Z"
    },
    "papermill": {
     "duration": 0.023859,
     "end_time": "2024-12-06T17:57:24.883722",
     "exception": false,
     "start_time": "2024-12-06T17:57:24.859863",
     "status": "completed"
    },
    "tags": []
   },
   "outputs": [],
   "source": [
    "loss=result[0]\n",
    "acc=result[1]\n",
    "auc=result[2]"
   ]
  },
  {
   "cell_type": "code",
   "execution_count": 16,
   "id": "3ac6f807",
   "metadata": {
    "execution": {
     "iopub.execute_input": "2024-12-06T17:57:24.917081Z",
     "iopub.status.busy": "2024-12-06T17:57:24.916664Z",
     "iopub.status.idle": "2024-12-06T17:57:24.922599Z",
     "shell.execute_reply": "2024-12-06T17:57:24.921494Z"
    },
    "papermill": {
     "duration": 0.026,
     "end_time": "2024-12-06T17:57:24.925447",
     "exception": false,
     "start_time": "2024-12-06T17:57:24.899447",
     "status": "completed"
    },
    "tags": []
   },
   "outputs": [
    {
     "name": "stdout",
     "output_type": "stream",
     "text": [
      "Loss:0.12814471125602722\n",
      "Accuracy:0.9649122953414917\n",
      "AUC:0.9973796010017395\n"
     ]
    }
   ],
   "source": [
    "print(f\"Loss:{loss}\")\n",
    "print(f\"Accuracy:{acc}\")\n",
    "print(f\"AUC:{auc}\")"
   ]
  },
  {
   "cell_type": "code",
   "execution_count": null,
   "id": "2b2b9288",
   "metadata": {
    "papermill": {
     "duration": 0.015755,
     "end_time": "2024-12-06T17:57:24.957012",
     "exception": false,
     "start_time": "2024-12-06T17:57:24.941257",
     "status": "completed"
    },
    "tags": []
   },
   "outputs": [],
   "source": []
  }
 ],
 "metadata": {
  "kaggle": {
   "accelerator": "none",
   "dataSources": [],
   "dockerImageVersionId": 30804,
   "isGpuEnabled": false,
   "isInternetEnabled": true,
   "language": "python",
   "sourceType": "notebook"
  },
  "kernelspec": {
   "display_name": "Python 3",
   "language": "python",
   "name": "python3"
  },
  "language_info": {
   "codemirror_mode": {
    "name": "ipython",
    "version": 3
   },
   "file_extension": ".py",
   "mimetype": "text/x-python",
   "name": "python",
   "nbconvert_exporter": "python",
   "pygments_lexer": "ipython3",
   "version": "3.10.14"
  },
  "papermill": {
   "default_parameters": {},
   "duration": 33.528654,
   "end_time": "2024-12-06T17:57:27.669959",
   "environment_variables": {},
   "exception": null,
   "input_path": "__notebook__.ipynb",
   "output_path": "__notebook__.ipynb",
   "parameters": {},
   "start_time": "2024-12-06T17:56:54.141305",
   "version": "2.6.0"
  }
 },
 "nbformat": 4,
 "nbformat_minor": 5
}
